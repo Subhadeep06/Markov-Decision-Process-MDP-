{
 "cells": [
  {
   "cell_type": "markdown",
   "metadata": {},
   "source": [
    "# Random Walk applications before Monte Carlo"
   ]
  },
  {
   "cell_type": "code",
   "execution_count": 1,
   "metadata": {},
   "outputs": [],
   "source": [
    "import random #       distance    -10---------------home---------10"
   ]
  },
  {
   "cell_type": "code",
   "execution_count": 2,
   "metadata": {},
   "outputs": [],
   "source": [
    "def random_walk(n):\n",
    "    x=0\n",
    "    y=0\n",
    "    for i in range(n):\n",
    "        step = random.choice(['N','S','E','W'])\n",
    "        if step == 'N':\n",
    "            y = y+1\n",
    "        elif step =='S':\n",
    "            y = y-1\n",
    "        elif step == 'E':\n",
    "            x = x+1\n",
    "        else:\n",
    "            x = x-1\n",
    "    return(x,y)\n",
    "        "
   ]
  },
  {
   "cell_type": "code",
   "execution_count": 3,
   "metadata": {},
   "outputs": [
    {
     "name": "stdout",
     "output_type": "stream",
     "text": [
      "(-2, 6) distance from home =  8\n",
      "(3, 1) distance from home =  4\n",
      "(0, 4) distance from home =  4\n",
      "(1, -1) distance from home =  2\n",
      "(2, 4) distance from home =  6\n",
      "(-1, 1) distance from home =  2\n",
      "(1, -1) distance from home =  2\n",
      "(-2, 0) distance from home =  2\n",
      "(-3, -3) distance from home =  6\n",
      "(0, 0) distance from home =  0\n",
      "(2, -2) distance from home =  4\n",
      "(-3, 1) distance from home =  4\n",
      "(-1, 1) distance from home =  2\n",
      "(-2, 0) distance from home =  2\n",
      "(0, 4) distance from home =  4\n",
      "(1, -1) distance from home =  2\n",
      "(-7, -1) distance from home =  8\n",
      "(1, 1) distance from home =  2\n",
      "(0, 2) distance from home =  2\n",
      "(-2, 0) distance from home =  2\n",
      "(-1, -1) distance from home =  2\n",
      "(-1, 3) distance from home =  4\n",
      "(1, -1) distance from home =  2\n",
      "(-2, 0) distance from home =  2\n",
      "(0, -2) distance from home =  2\n"
     ]
    }
   ],
   "source": [
    "for i in range(25):\n",
    "    walk = random_walk(10)\n",
    "    print(walk,\"distance from home = \",abs(walk[0])+abs(walk[1]))"
   ]
  },
  {
   "cell_type": "code",
   "execution_count": 4,
   "metadata": {},
   "outputs": [],
   "source": [
    "def random_walk2(n):\n",
    "    x,y = 0,0\n",
    "    for i in range(n):\n",
    "        (dx,dy) = random.choice([(0,1),(0,-1),(1,0),(-1,0)])\n",
    "        x +=dx        #x = x+dx\n",
    "        y +=dy\n",
    "    return(x,y)"
   ]
  },
  {
   "cell_type": "code",
   "execution_count": 5,
   "metadata": {},
   "outputs": [
    {
     "name": "stdout",
     "output_type": "stream",
     "text": [
      "(1, -1) distance from home =  2\n",
      "(1, 3) distance from home =  4\n",
      "(2, 2) distance from home =  4\n",
      "(-1, -1) distance from home =  2\n",
      "(0, -2) distance from home =  2\n",
      "(2, 0) distance from home =  2\n",
      "(-2, -2) distance from home =  4\n",
      "(1, 1) distance from home =  2\n",
      "(2, 0) distance from home =  2\n",
      "(3, 1) distance from home =  4\n",
      "(-1, -1) distance from home =  2\n",
      "(3, -1) distance from home =  4\n",
      "(2, 0) distance from home =  2\n",
      "(2, -2) distance from home =  4\n",
      "(2, -2) distance from home =  4\n",
      "(-1, 1) distance from home =  2\n",
      "(0, -2) distance from home =  2\n",
      "(0, -2) distance from home =  2\n",
      "(-4, 2) distance from home =  6\n",
      "(1, -1) distance from home =  2\n",
      "(1, 3) distance from home =  4\n",
      "(-2, 4) distance from home =  6\n",
      "(0, -4) distance from home =  4\n",
      "(0, 0) distance from home =  0\n",
      "(0, 0) distance from home =  0\n"
     ]
    }
   ],
   "source": [
    "for i in range(25):\n",
    "    walk = random_walk2(10)\n",
    "    print(walk,\"distance from home = \",abs(walk[0])+abs(walk[1]))"
   ]
  },
  {
   "cell_type": "code",
   "execution_count": 6,
   "metadata": {},
   "outputs": [],
   "source": [
    "number_of_walk = 10000"
   ]
  },
  {
   "cell_type": "code",
   "execution_count": 7,
   "metadata": {},
   "outputs": [
    {
     "name": "stdout",
     "output_type": "stream",
     "text": [
      "Walk_size = 1 / % of no transport =  100.0\n",
      "Walk_size = 2 / % of no transport =  100.0\n",
      "Walk_size = 3 / % of no transport =  100.0\n",
      "Walk_size = 4 / % of no transport =  100.0\n",
      "Walk_size = 5 / % of no transport =  88.17\n",
      "Walk_size = 6 / % of no transport =  93.78999999999999\n",
      "Walk_size = 7 / % of no transport =  76.92999999999999\n",
      "Walk_size = 8 / % of no transport =  86.64\n",
      "Walk_size = 9 / % of no transport =  67.09\n",
      "Walk_size = 10 / % of no transport =  79.54\n",
      "Walk_size = 11 / % of no transport =  60.29\n",
      "Walk_size = 12 / % of no transport =  72.57000000000001\n",
      "Walk_size = 13 / % of no transport =  53.5\n",
      "Walk_size = 14 / % of no transport =  66.55\n",
      "Walk_size = 15 / % of no transport =  49.85\n",
      "Walk_size = 16 / % of no transport =  62.08\n",
      "Walk_size = 17 / % of no transport =  44.769999999999996\n",
      "Walk_size = 18 / % of no transport =  58.540000000000006\n",
      "Walk_size = 19 / % of no transport =  40.63\n",
      "Walk_size = 20 / % of no transport =  54.339999999999996\n",
      "Walk_size = 21 / % of no transport =  38.2\n",
      "Walk_size = 22 / % of no transport =  50.99\n",
      "Walk_size = 23 / % of no transport =  35.010000000000005\n",
      "Walk_size = 24 / % of no transport =  48.39\n",
      "Walk_size = 25 / % of no transport =  33.42\n",
      "Walk_size = 26 / % of no transport =  45.06\n",
      "Walk_size = 27 / % of no transport =  31.5\n",
      "Walk_size = 28 / % of no transport =  43.25\n",
      "Walk_size = 29 / % of no transport =  28.95\n",
      "Walk_size = 30 / % of no transport =  40.48\n"
     ]
    }
   ],
   "source": [
    "for walk_length in range(1,31):\n",
    "    no_transport = 0   #number of walks or fewer block from home\n",
    "    for i in range (number_of_walk):\n",
    "        (x,y) = random_walk2(walk_length)\n",
    "        distance = abs(x) + abs(y)\n",
    "        if distance <= 4:\n",
    "            no_transport +=1\n",
    "    no_walk_perceentage = float(no_transport/number_of_walk)\n",
    "    print(\"Walk_size =\",walk_length,\"/ % of no transport = \",100*no_walk_perceentage)"
   ]
  },
  {
   "cell_type": "code",
   "execution_count": null,
   "metadata": {},
   "outputs": [],
   "source": []
  }
 ],
 "metadata": {
  "kernelspec": {
   "display_name": "Python 3",
   "language": "python",
   "name": "python3"
  },
  "language_info": {
   "codemirror_mode": {
    "name": "ipython",
    "version": 3
   },
   "file_extension": ".py",
   "mimetype": "text/x-python",
   "name": "python",
   "nbconvert_exporter": "python",
   "pygments_lexer": "ipython3",
   "version": "3.7.6"
  }
 },
 "nbformat": 4,
 "nbformat_minor": 4
}
