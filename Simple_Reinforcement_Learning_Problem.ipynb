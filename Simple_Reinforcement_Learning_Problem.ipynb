{
 "cells": [
  {
   "cell_type": "code",
   "execution_count": 1,
   "metadata": {},
   "outputs": [],
   "source": [
    "import sys\n",
    "sys.setrecursionlimit(10000)"
   ]
  },
  {
   "cell_type": "code",
   "execution_count": 2,
   "metadata": {},
   "outputs": [],
   "source": [
    "class transition(object):\n",
    "    def __init__(self,N):\n",
    "        self.N = N\n",
    "        \n",
    "    def  startState(self):\n",
    "        return 1\n",
    "    \n",
    "    def endState(self,state):\n",
    "        return state==self.N\n",
    "    \n",
    "    def action(self,state):\n",
    "        result =[]\n",
    "        if state+1 <= self.N:\n",
    "            result.append (\"Walk\")\n",
    "        if state*2 <= self.N:\n",
    "            result.append(\"train\")\n",
    "        return result\n",
    "    \n",
    "    def probReward(self,state,action):\n",
    "        result =[]\n",
    "        if action == \"walk\":\n",
    "            result.append((state+1,1.,-1.))\n",
    "        elif action == \"tran\":\n",
    "            result.append((state*2,0.5,-2.))\n",
    "            result.append((state,0.5,-2))\n",
    "        return result\n",
    "    \n",
    "    def discount(self):\n",
    "        return 1.0\n",
    "    \n",
    "    def state(self):\n",
    "        return range(1, self.N+1)"
   ]
  },
  {
   "cell_type": "code",
   "execution_count": 3,
   "metadata": {},
   "outputs": [],
   "source": [
    "mdp = transition(N=10)"
   ]
  },
  {
   "cell_type": "code",
   "execution_count": 4,
   "metadata": {},
   "outputs": [
    {
     "name": "stdout",
     "output_type": "stream",
     "text": [
      "['Walk', 'train']\n"
     ]
    }
   ],
   "source": [
    "print(mdp.action(3))"
   ]
  },
  {
   "cell_type": "code",
   "execution_count": 5,
   "metadata": {},
   "outputs": [
    {
     "name": "stdout",
     "output_type": "stream",
     "text": [
      "[(4, 1.0, -1.0)]\n"
     ]
    }
   ],
   "source": [
    "print(mdp.probReward(3,\"walk\"))"
   ]
  },
  {
   "cell_type": "code",
   "execution_count": 6,
   "metadata": {},
   "outputs": [
    {
     "name": "stdout",
     "output_type": "stream",
     "text": [
      "[(6, 0.5, -2.0), (3, 0.5, -2)]\n"
     ]
    }
   ],
   "source": [
    "print(mdp.probReward(3,\"tran\"))"
   ]
  },
  {
   "cell_type": "code",
   "execution_count": 7,
   "metadata": {},
   "outputs": [
    {
     "name": "stdout",
     "output_type": "stream",
     "text": [
      "[(4, 1.0, -1.0)]\n"
     ]
    }
   ],
   "source": [
    "print(mdp.probReward(3,\"walk\"))"
   ]
  },
  {
   "cell_type": "code",
   "execution_count": 8,
   "metadata": {},
   "outputs": [
    {
     "name": "stdout",
     "output_type": "stream",
     "text": [
      "[(3, 1.0, -1.0)]\n"
     ]
    }
   ],
   "source": [
    "print(mdp.probReward(2,\"walk\"))"
   ]
  },
  {
   "cell_type": "code",
   "execution_count": null,
   "metadata": {},
   "outputs": [],
   "source": []
  }
 ],
 "metadata": {
  "kernelspec": {
   "display_name": "Python 3",
   "language": "python",
   "name": "python3"
  },
  "language_info": {
   "codemirror_mode": {
    "name": "ipython",
    "version": 3
   },
   "file_extension": ".py",
   "mimetype": "text/x-python",
   "name": "python",
   "nbconvert_exporter": "python",
   "pygments_lexer": "ipython3",
   "version": "3.7.6"
  }
 },
 "nbformat": 4,
 "nbformat_minor": 4
}
